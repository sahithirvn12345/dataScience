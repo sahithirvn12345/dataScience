{
 "cells": [
  {
   "cell_type": "code",
   "execution_count": 1,
   "metadata": {},
   "outputs": [
    {
     "name": "stdout",
     "output_type": "stream",
     "text": [
      "*\n",
      "**\n",
      "***\n",
      "****\n",
      "*****\n"
     ]
    }
   ],
   "source": [
    "#generate the pattern\n",
    "k=1\n",
    "for i in range(0,5):\n",
    "    for j in range (0,k):\n",
    "        print(\"*\", end=\"\")\n",
    "    k =k+1\n",
    "    print()"
   ]
  },
  {
   "cell_type": "code",
   "execution_count": 2,
   "metadata": {},
   "outputs": [
    {
     "name": "stdout",
     "output_type": "stream",
     "text": [
      "Enter 'x' for exit.\n",
      "Enter a number: 10\n",
      "10 * 1 = 10\n",
      "10 * 2 = 20\n",
      "10 * 3 = 30\n",
      "10 * 4 = 40\n",
      "10 * 5 = 50\n",
      "10 * 6 = 60\n",
      "10 * 7 = 70\n",
      "10 * 8 = 80\n",
      "10 * 9 = 90\n",
      "10 * 10 = 100\n"
     ]
    }
   ],
   "source": [
    "#display multiplication table of k.take k value from user\n",
    "print(\"Enter 'x' for exit.\")\n",
    "num = int(input(\"Enter a number: \"))\n",
    "i = 1\n",
    "while i < 11:\n",
    "        print(num, \"*\", i, \"=\", num*i)\n",
    "        i=i+1"
   ]
  },
  {
   "cell_type": "code",
   "execution_count": 3,
   "metadata": {},
   "outputs": [
    {
     "name": "stdout",
     "output_type": "stream",
     "text": [
      "Enter 'x' for exit.\n",
      "Enter value of a: 16\n",
      "Enter value of b: 12\n",
      "Enter value of c: 6\n",
      "The solutions = (-0.375-0.4841229182759271j) and (-0.375+0.4841229182759271j)\n"
     ]
    }
   ],
   "source": [
    "\n",
    "#roots of quadratic equation\n",
    "import cmath\n",
    "print(\"Enter 'x' for exit.\")\n",
    "num1 = input(\"Enter value of a: \")\n",
    "if num1 == 'x':\n",
    "    exit()\n",
    "else:\n",
    "    num2 = input(\"Enter value of b: \")\n",
    "    num3 = input(\"Enter value of c: \")\n",
    "    number1 = float(num1)\n",
    "    number2 = float(num2)\n",
    "    number3 = float(num3)\n",
    "    d = (number2**2) - (4*number1*number3)\n",
    "    r1 = (-number2-cmath.sqrt(d))/(2*number1)\n",
    "    r2 = (-number2+cmath.sqrt(d))/(2*number1)\n",
    "    print(\"The solutions = {0} and {1}\" .format(r1,r2))"
   ]
  },
  {
   "cell_type": "code",
   "execution_count": 4,
   "metadata": {},
   "outputs": [
    {
     "name": "stdout",
     "output_type": "stream",
     "text": [
      "4\n",
      "The equivalent binary number is 100\n"
     ]
    }
   ],
   "source": [
    "#convert a decimal to binary\n",
    "def dtob(n):\n",
    "    x=bin(n)\n",
    "    x=x[2:]\n",
    "    print(\"The equivalent binary number is\",x)\n",
    "y=int(input())\n",
    "dtob(y)"
   ]
  },
  {
   "cell_type": "code",
   "execution_count": 5,
   "metadata": {},
   "outputs": [
    {
     "name": "stdout",
     "output_type": "stream",
     "text": [
      "How many terms you want? 6\n",
      "Fibonacci sequence:\n",
      "0 , 1, 1 , 2 , 3 , 5 , "
     ]
    }
   ],
   "source": [
    "\n",
    "#generate first n numbers of fibonacci numbers.take N value from the user n-int(input())\n",
    "nterms = int(input(\"How many terms you want? \"))    \n",
    "n1 = 0  \n",
    "n2 = 1  \n",
    "count = 2  \n",
    "if nterms <= 0:  \n",
    "   print(\"Plese enter a positive integer\")  \n",
    "elif nterms == 1:  \n",
    "   print(\"Fibonacci sequence:\")  \n",
    "   print(n1)  \n",
    "else:  \n",
    "   print(\"Fibonacci sequence:\")  \n",
    "   print(n1,\",\",n2,end=', ')  \n",
    "   while count < nterms:  \n",
    "       nth = n1 + n2  \n",
    "       print(nth,end=' , ')  \n",
    "       # update values  \n",
    "       n1 = n2  \n",
    "       n2 = nth  \n",
    "       count += 1"
   ]
  },
  {
   "cell_type": "code",
   "execution_count": null,
   "metadata": {},
   "outputs": [],
   "source": []
  }
 ],
 "metadata": {
  "kernelspec": {
   "display_name": "Python 3",
   "language": "python",
   "name": "python3"
  },
  "language_info": {
   "codemirror_mode": {
    "name": "ipython",
    "version": 3
   },
   "file_extension": ".py",
   "mimetype": "text/x-python",
   "name": "python",
   "nbconvert_exporter": "python",
   "pygments_lexer": "ipython3",
   "version": "3.7.6"
  }
 },
 "nbformat": 4,
 "nbformat_minor": 4
}
